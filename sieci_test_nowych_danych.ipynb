{
  "cells": [
    {
      "cell_type": "code",
      "execution_count": 1,
      "metadata": {
        "id": "_n6_idxzPsMv"
      },
      "outputs": [],
      "source": [
        "import pandas as pd\n",
        "from datetime import datetime\n",
        "from keras.models import Sequential\n",
        "from keras.layers import Dense\n",
        "import tensorflow as tf\n",
        "import math\n",
        "import statistics\n",
        "import keras\n",
        "from tensorflow.python.ops import math_ops\n"
      ]
    },
    {
      "cell_type": "code",
      "execution_count": 30,
      "metadata": {
        "id": "LXeLXl2QjuXr"
      },
      "outputs": [],
      "source": [
        "dfs = pd.read_csv('./dfs_all_with_desc_8h_pojutrze.csv')"
      ]
    },
    {
      "cell_type": "code",
      "execution_count": 31,
      "metadata": {
        "id": "r7I9ATA-j6Z7"
      },
      "outputs": [],
      "source": [
        "dfs = dfs.iloc[: , 1:]"
      ]
    },
    {
      "cell_type": "code",
      "execution_count": 91,
      "metadata": {},
      "outputs": [
        {
          "data": {
            "text/html": [
              "<div>\n",
              "<style scoped>\n",
              "    .dataframe tbody tr th:only-of-type {\n",
              "        vertical-align: middle;\n",
              "    }\n",
              "\n",
              "    .dataframe tbody tr th {\n",
              "        vertical-align: top;\n",
              "    }\n",
              "\n",
              "    .dataframe thead th {\n",
              "        text-align: right;\n",
              "    }\n",
              "</style>\n",
              "<table border=\"1\" class=\"dataframe\">\n",
              "  <thead>\n",
              "    <tr style=\"text-align: right;\">\n",
              "      <th></th>\n",
              "      <th>Latitude</th>\n",
              "      <th>Longitude</th>\n",
              "      <th>Humidity1_0</th>\n",
              "      <th>Pressure1_0</th>\n",
              "      <th>Temp1_0</th>\n",
              "      <th>WindDirSin1_0</th>\n",
              "      <th>WindDirCos1_0</th>\n",
              "      <th>WindSpeed1_0</th>\n",
              "      <th>DayOfYearSin1_0</th>\n",
              "      <th>DayOfYearCos1_0</th>\n",
              "      <th>...</th>\n",
              "      <th>Rain_prox_3_1</th>\n",
              "      <th>Snow_3_1</th>\n",
              "      <th>Sleet_3_1</th>\n",
              "      <th>Rain_snow_3_1</th>\n",
              "      <th>Atmopsphere1_3_1</th>\n",
              "      <th>Atmosphere2_3_1</th>\n",
              "      <th>Squall_3_1</th>\n",
              "      <th>Tornado_3_1</th>\n",
              "      <th>Clouds_3_1</th>\n",
              "      <th>Temp5</th>\n",
              "    </tr>\n",
              "  </thead>\n",
              "  <tbody>\n",
              "    <tr>\n",
              "      <th>count</th>\n",
              "      <td>54612.000000</td>\n",
              "      <td>54612.000000</td>\n",
              "      <td>54612.000000</td>\n",
              "      <td>54612.000000</td>\n",
              "      <td>54612.000000</td>\n",
              "      <td>54612.000000</td>\n",
              "      <td>54612.000000</td>\n",
              "      <td>54612.000000</td>\n",
              "      <td>54612.000000</td>\n",
              "      <td>54612.000000</td>\n",
              "      <td>...</td>\n",
              "      <td>54612.000000</td>\n",
              "      <td>54612.000000</td>\n",
              "      <td>54612.000000</td>\n",
              "      <td>54612.000000</td>\n",
              "      <td>54612.000000</td>\n",
              "      <td>54612.000000</td>\n",
              "      <td>54612.000000</td>\n",
              "      <td>54612.000000</td>\n",
              "      <td>54612.000000</td>\n",
              "      <td>54612.000000</td>\n",
              "    </tr>\n",
              "    <tr>\n",
              "      <th>mean</th>\n",
              "      <td>-73.544668</td>\n",
              "      <td>37.066743</td>\n",
              "      <td>71.541628</td>\n",
              "      <td>1016.750891</td>\n",
              "      <td>287.267135</td>\n",
              "      <td>-0.081224</td>\n",
              "      <td>-0.017550</td>\n",
              "      <td>2.520751</td>\n",
              "      <td>-0.031231</td>\n",
              "      <td>0.017521</td>\n",
              "      <td>...</td>\n",
              "      <td>0.002988</td>\n",
              "      <td>0.021387</td>\n",
              "      <td>0.000037</td>\n",
              "      <td>0.002237</td>\n",
              "      <td>0.118315</td>\n",
              "      <td>0.001616</td>\n",
              "      <td>0.000063</td>\n",
              "      <td>0.000002</td>\n",
              "      <td>1.701535</td>\n",
              "      <td>288.437140</td>\n",
              "    </tr>\n",
              "    <tr>\n",
              "      <th>std</th>\n",
              "      <td>50.890928</td>\n",
              "      <td>5.734226</td>\n",
              "      <td>18.390199</td>\n",
              "      <td>14.763361</td>\n",
              "      <td>9.692158</td>\n",
              "      <td>0.543286</td>\n",
              "      <td>0.582596</td>\n",
              "      <td>1.602715</td>\n",
              "      <td>0.712276</td>\n",
              "      <td>0.700998</td>\n",
              "      <td>...</td>\n",
              "      <td>0.032054</td>\n",
              "      <td>0.149650</td>\n",
              "      <td>0.003149</td>\n",
              "      <td>0.044000</td>\n",
              "      <td>0.324603</td>\n",
              "      <td>0.039359</td>\n",
              "      <td>0.002282</td>\n",
              "      <td>0.000357</td>\n",
              "      <td>1.124669</td>\n",
              "      <td>9.726357</td>\n",
              "    </tr>\n",
              "    <tr>\n",
              "      <th>min</th>\n",
              "      <td>-123.119339</td>\n",
              "      <td>25.774269</td>\n",
              "      <td>6.000000</td>\n",
              "      <td>803.750000</td>\n",
              "      <td>244.962208</td>\n",
              "      <td>-1.000000</td>\n",
              "      <td>-1.000000</td>\n",
              "      <td>0.000000</td>\n",
              "      <td>-0.999991</td>\n",
              "      <td>-0.999963</td>\n",
              "      <td>...</td>\n",
              "      <td>0.000000</td>\n",
              "      <td>0.000000</td>\n",
              "      <td>0.000000</td>\n",
              "      <td>0.000000</td>\n",
              "      <td>0.000000</td>\n",
              "      <td>0.000000</td>\n",
              "      <td>0.000000</td>\n",
              "      <td>0.000000</td>\n",
              "      <td>0.000000</td>\n",
              "      <td>248.462813</td>\n",
              "    </tr>\n",
              "    <tr>\n",
              "      <th>25%</th>\n",
              "      <td>-105.401312</td>\n",
              "      <td>32.766126</td>\n",
              "      <td>62.083333</td>\n",
              "      <td>1012.083333</td>\n",
              "      <td>281.216437</td>\n",
              "      <td>-0.537990</td>\n",
              "      <td>-0.529979</td>\n",
              "      <td>1.333333</td>\n",
              "      <td>-0.746972</td>\n",
              "      <td>-0.683919</td>\n",
              "      <td>...</td>\n",
              "      <td>0.000000</td>\n",
              "      <td>0.000000</td>\n",
              "      <td>0.000000</td>\n",
              "      <td>0.000000</td>\n",
              "      <td>0.000000</td>\n",
              "      <td>0.000000</td>\n",
              "      <td>0.000000</td>\n",
              "      <td>0.000000</td>\n",
              "      <td>1.000000</td>\n",
              "      <td>282.247000</td>\n",
              "    </tr>\n",
              "    <tr>\n",
              "      <th>50%</th>\n",
              "      <td>-86.471241</td>\n",
              "      <td>36.170429</td>\n",
              "      <td>74.500000</td>\n",
              "      <td>1017.500000</td>\n",
              "      <td>288.593667</td>\n",
              "      <td>-0.099819</td>\n",
              "      <td>-0.016882</td>\n",
              "      <td>2.166667</td>\n",
              "      <td>-0.060213</td>\n",
              "      <td>0.055917</td>\n",
              "      <td>...</td>\n",
              "      <td>0.000000</td>\n",
              "      <td>0.000000</td>\n",
              "      <td>0.000000</td>\n",
              "      <td>0.000000</td>\n",
              "      <td>0.000000</td>\n",
              "      <td>0.000000</td>\n",
              "      <td>0.000000</td>\n",
              "      <td>0.000000</td>\n",
              "      <td>1.416667</td>\n",
              "      <td>289.699502</td>\n",
              "    </tr>\n",
              "    <tr>\n",
              "      <th>75%</th>\n",
              "      <td>-74.874332</td>\n",
              "      <td>40.998211</td>\n",
              "      <td>84.833333</td>\n",
              "      <td>1024.083333</td>\n",
              "      <td>294.447021</td>\n",
              "      <td>0.333265</td>\n",
              "      <td>0.483906</td>\n",
              "      <td>3.333333</td>\n",
              "      <td>0.687053</td>\n",
              "      <td>0.702527</td>\n",
              "      <td>...</td>\n",
              "      <td>0.000000</td>\n",
              "      <td>0.000000</td>\n",
              "      <td>0.000000</td>\n",
              "      <td>0.000000</td>\n",
              "      <td>0.000000</td>\n",
              "      <td>0.000000</td>\n",
              "      <td>0.000000</td>\n",
              "      <td>0.000000</td>\n",
              "      <td>2.416667</td>\n",
              "      <td>295.794271</td>\n",
              "    </tr>\n",
              "    <tr>\n",
              "      <th>max</th>\n",
              "      <td>35.216331</td>\n",
              "      <td>49.249660</td>\n",
              "      <td>100.000000</td>\n",
              "      <td>1097.166667</td>\n",
              "      <td>316.038000</td>\n",
              "      <td>0.999784</td>\n",
              "      <td>1.000000</td>\n",
              "      <td>16.916667</td>\n",
              "      <td>0.999991</td>\n",
              "      <td>1.000000</td>\n",
              "      <td>...</td>\n",
              "      <td>1.333333</td>\n",
              "      <td>3.000000</td>\n",
              "      <td>0.500000</td>\n",
              "      <td>2.333333</td>\n",
              "      <td>4.000000</td>\n",
              "      <td>2.000000</td>\n",
              "      <td>0.083333</td>\n",
              "      <td>0.083333</td>\n",
              "      <td>5.000000</td>\n",
              "      <td>316.038000</td>\n",
              "    </tr>\n",
              "  </tbody>\n",
              "</table>\n",
              "<p>8 rows × 135 columns</p>\n",
              "</div>"
            ],
            "text/plain": [
              "           Latitude     Longitude   Humidity1_0   Pressure1_0       Temp1_0  \\\n",
              "count  54612.000000  54612.000000  54612.000000  54612.000000  54612.000000   \n",
              "mean     -73.544668     37.066743     71.541628   1016.750891    287.267135   \n",
              "std       50.890928      5.734226     18.390199     14.763361      9.692158   \n",
              "min     -123.119339     25.774269      6.000000    803.750000    244.962208   \n",
              "25%     -105.401312     32.766126     62.083333   1012.083333    281.216437   \n",
              "50%      -86.471241     36.170429     74.500000   1017.500000    288.593667   \n",
              "75%      -74.874332     40.998211     84.833333   1024.083333    294.447021   \n",
              "max       35.216331     49.249660    100.000000   1097.166667    316.038000   \n",
              "\n",
              "       WindDirSin1_0  WindDirCos1_0  WindSpeed1_0  DayOfYearSin1_0  \\\n",
              "count   54612.000000   54612.000000  54612.000000     54612.000000   \n",
              "mean       -0.081224      -0.017550      2.520751        -0.031231   \n",
              "std         0.543286       0.582596      1.602715         0.712276   \n",
              "min        -1.000000      -1.000000      0.000000        -0.999991   \n",
              "25%        -0.537990      -0.529979      1.333333        -0.746972   \n",
              "50%        -0.099819      -0.016882      2.166667        -0.060213   \n",
              "75%         0.333265       0.483906      3.333333         0.687053   \n",
              "max         0.999784       1.000000     16.916667         0.999991   \n",
              "\n",
              "       DayOfYearCos1_0  ...  Rain_prox_3_1      Snow_3_1     Sleet_3_1  \\\n",
              "count     54612.000000  ...   54612.000000  54612.000000  54612.000000   \n",
              "mean          0.017521  ...       0.002988      0.021387      0.000037   \n",
              "std           0.700998  ...       0.032054      0.149650      0.003149   \n",
              "min          -0.999963  ...       0.000000      0.000000      0.000000   \n",
              "25%          -0.683919  ...       0.000000      0.000000      0.000000   \n",
              "50%           0.055917  ...       0.000000      0.000000      0.000000   \n",
              "75%           0.702527  ...       0.000000      0.000000      0.000000   \n",
              "max           1.000000  ...       1.333333      3.000000      0.500000   \n",
              "\n",
              "       Rain_snow_3_1  Atmopsphere1_3_1  Atmosphere2_3_1    Squall_3_1  \\\n",
              "count   54612.000000      54612.000000     54612.000000  54612.000000   \n",
              "mean        0.002237          0.118315         0.001616      0.000063   \n",
              "std         0.044000          0.324603         0.039359      0.002282   \n",
              "min         0.000000          0.000000         0.000000      0.000000   \n",
              "25%         0.000000          0.000000         0.000000      0.000000   \n",
              "50%         0.000000          0.000000         0.000000      0.000000   \n",
              "75%         0.000000          0.000000         0.000000      0.000000   \n",
              "max         2.333333          4.000000         2.000000      0.083333   \n",
              "\n",
              "        Tornado_3_1    Clouds_3_1         Temp5  \n",
              "count  54612.000000  54612.000000  54612.000000  \n",
              "mean       0.000002      1.701535    288.437140  \n",
              "std        0.000357      1.124669      9.726357  \n",
              "min        0.000000      0.000000    248.462813  \n",
              "25%        0.000000      1.000000    282.247000  \n",
              "50%        0.000000      1.416667    289.699502  \n",
              "75%        0.000000      2.416667    295.794271  \n",
              "max        0.083333      5.000000    316.038000  \n",
              "\n",
              "[8 rows x 135 columns]"
            ]
          },
          "execution_count": 91,
          "metadata": {},
          "output_type": "execute_result"
        }
      ],
      "source": [
        "dfs.describe()"
      ]
    },
    {
      "cell_type": "code",
      "execution_count": 78,
      "metadata": {},
      "outputs": [
        {
          "data": {
            "text/plain": [
              "[dtype('float64'),\n",
              " dtype('float64'),\n",
              " dtype('float64'),\n",
              " dtype('float64'),\n",
              " dtype('float64'),\n",
              " dtype('float64'),\n",
              " dtype('float64'),\n",
              " dtype('float64'),\n",
              " dtype('float64'),\n",
              " dtype('float64'),\n",
              " dtype('float64'),\n",
              " dtype('float64'),\n",
              " dtype('float64'),\n",
              " dtype('float64'),\n",
              " dtype('float64'),\n",
              " dtype('float64'),\n",
              " dtype('float64'),\n",
              " dtype('float64'),\n",
              " dtype('float64'),\n",
              " dtype('float64'),\n",
              " dtype('float64'),\n",
              " dtype('float64'),\n",
              " dtype('float64'),\n",
              " dtype('float64'),\n",
              " dtype('float64'),\n",
              " dtype('float64'),\n",
              " dtype('float64'),\n",
              " dtype('float64'),\n",
              " dtype('float64'),\n",
              " dtype('float64'),\n",
              " dtype('float64'),\n",
              " dtype('float64'),\n",
              " dtype('float64'),\n",
              " dtype('float64'),\n",
              " dtype('float64'),\n",
              " dtype('float64'),\n",
              " dtype('float64'),\n",
              " dtype('float64'),\n",
              " dtype('float64'),\n",
              " dtype('float64'),\n",
              " dtype('float64'),\n",
              " dtype('float64'),\n",
              " dtype('float64'),\n",
              " dtype('float64'),\n",
              " dtype('float64'),\n",
              " dtype('float64'),\n",
              " dtype('float64'),\n",
              " dtype('float64'),\n",
              " dtype('float64'),\n",
              " dtype('float64'),\n",
              " dtype('float64'),\n",
              " dtype('float64'),\n",
              " dtype('float64'),\n",
              " dtype('float64'),\n",
              " dtype('float64'),\n",
              " dtype('float64'),\n",
              " dtype('float64'),\n",
              " dtype('float64'),\n",
              " dtype('float64'),\n",
              " dtype('float64'),\n",
              " dtype('float64'),\n",
              " dtype('float64'),\n",
              " dtype('float64'),\n",
              " dtype('float64'),\n",
              " dtype('float64'),\n",
              " dtype('float64'),\n",
              " dtype('float64'),\n",
              " dtype('float64'),\n",
              " dtype('float64'),\n",
              " dtype('float64'),\n",
              " dtype('float64'),\n",
              " dtype('float64'),\n",
              " dtype('float64'),\n",
              " dtype('float64'),\n",
              " dtype('float64'),\n",
              " dtype('float64'),\n",
              " dtype('float64'),\n",
              " dtype('float64'),\n",
              " dtype('float64'),\n",
              " dtype('float64'),\n",
              " dtype('float64'),\n",
              " dtype('float64'),\n",
              " dtype('float64'),\n",
              " dtype('float64'),\n",
              " dtype('float64'),\n",
              " dtype('float64'),\n",
              " dtype('float64'),\n",
              " dtype('float64'),\n",
              " dtype('float64'),\n",
              " dtype('float64'),\n",
              " dtype('float64'),\n",
              " dtype('float64'),\n",
              " dtype('float64'),\n",
              " dtype('float64'),\n",
              " dtype('float64'),\n",
              " dtype('float64'),\n",
              " dtype('float64'),\n",
              " dtype('float64'),\n",
              " dtype('float64'),\n",
              " dtype('float64'),\n",
              " dtype('float64'),\n",
              " dtype('float64'),\n",
              " dtype('float64'),\n",
              " dtype('float64'),\n",
              " dtype('float64'),\n",
              " dtype('float64'),\n",
              " dtype('float64'),\n",
              " dtype('float64'),\n",
              " dtype('float64'),\n",
              " dtype('float64'),\n",
              " dtype('float64'),\n",
              " dtype('float64'),\n",
              " dtype('float64'),\n",
              " dtype('float64'),\n",
              " dtype('float64'),\n",
              " dtype('float64'),\n",
              " dtype('float64'),\n",
              " dtype('float64'),\n",
              " dtype('float64'),\n",
              " dtype('float64'),\n",
              " dtype('float64'),\n",
              " dtype('float64'),\n",
              " dtype('float64'),\n",
              " dtype('float64'),\n",
              " dtype('float64'),\n",
              " dtype('float64'),\n",
              " dtype('float64'),\n",
              " dtype('float64'),\n",
              " dtype('float64'),\n",
              " dtype('float64'),\n",
              " dtype('float64'),\n",
              " dtype('float64'),\n",
              " dtype('float64'),\n",
              " dtype('float64'),\n",
              " dtype('float64')]"
            ]
          },
          "execution_count": 78,
          "metadata": {},
          "output_type": "execute_result"
        }
      ],
      "source": [
        "dfs.dtypes.tolist()"
      ]
    },
    {
      "cell_type": "code",
      "execution_count": null,
      "metadata": {},
      "outputs": [],
      "source": [
        "dfs.head(30)"
      ]
    },
    {
      "cell_type": "code",
      "execution_count": 79,
      "metadata": {
        "id": "1C_pBC67SpHH"
      },
      "outputs": [],
      "source": [
        "df_shuffle = dfs.sample(frac = 1)\n",
        "\n",
        "train_length = math.floor(df_shuffle.shape[0] * 0.8)\n",
        "\n",
        "Xs = df_shuffle.iloc[: , :-1]\n",
        "X_norm = Xs\n",
        "X_norm = (Xs-Xs.mean())/Xs.std()\n",
        "\n",
        "x_test = X_norm.iloc[train_length: , :]\n",
        "y_test = df_shuffle.iloc[train_length: , -1:]\n",
        "x_train = X_norm.iloc[:train_length , :]\n",
        "y_train = df_shuffle.iloc[:train_length , -1:]\n",
        "\n",
        "# Xs = df_shuffle.iloc[: , :-1]\n",
        "# X_norm = Xs\n",
        "# X_norm = (Xs-Xs.mean())/Xs.std()\n",
        "\n",
        "# Ys = df_shuffle.iloc[: , -1:]\n",
        "# Y_norm = Ys\n",
        "# Y_norm = (Ys-Ys.mean())/Ys.std()\n",
        "\n",
        "# x_test = X_norm.iloc[train_length: , :]\n",
        "# y_test = Y_norm.iloc[train_length: , :]\n",
        "# x_train = X_norm.iloc[:train_length , :]\n",
        "# y_train = Y_norm.iloc[:train_length , :]"
      ]
    },
    {
      "cell_type": "code",
      "execution_count": null,
      "metadata": {
        "colab": {
          "base_uri": "https://localhost:8080/",
          "height": 427
        },
        "id": "EcoMiCTdixNI",
        "outputId": "8bd4b8bd-b55a-4601-d3ec-5cb14858329f"
      },
      "outputs": [],
      "source": [
        "lol = dfs.isnull().any().tolist()\n",
        "lol"
      ]
    },
    {
      "cell_type": "code",
      "execution_count": 49,
      "metadata": {
        "colab": {
          "base_uri": "https://localhost:8080/",
          "height": 250
        },
        "id": "6VVFhuH9IKqf",
        "outputId": "b604dbab-dbdc-4c11-c30e-4022e0994f5c"
      },
      "outputs": [
        {
          "data": {
            "text/plain": [
              "(43689, 1)"
            ]
          },
          "execution_count": 49,
          "metadata": {},
          "output_type": "execute_result"
        }
      ],
      "source": [
        "y_train.shape"
      ]
    },
    {
      "cell_type": "code",
      "execution_count": 35,
      "metadata": {},
      "outputs": [
        {
          "data": {
            "text/plain": [
              "(43689, 1)"
            ]
          },
          "execution_count": 35,
          "metadata": {},
          "output_type": "execute_result"
        }
      ],
      "source": [
        "y_train.shape"
      ]
    },
    {
      "cell_type": "markdown",
      "metadata": {
        "id": "Mr9uFOz8Yk4l"
      },
      "source": [
        "Regresja MSE temperatura 5000 danych"
      ]
    },
    {
      "cell_type": "code",
      "execution_count": 90,
      "metadata": {
        "id": "WqViV9aXddFj"
      },
      "outputs": [],
      "source": [
        "def correctly_predicted(predicted, y_test):\n",
        "  counter = 0\n",
        "  for i in range(len(predicted)):\n",
        "    if abs(predicted[i] -  y_test[i]) <= 2:\n",
        "      counter+=1\n",
        "\n",
        "  return counter\n",
        "\n",
        "def test_loss_function(loss):\n",
        "  dim = x_test.shape[1]\n",
        "  lr_schedule = tf.keras.optimizers.schedules.ExponentialDecay(\n",
        "      initial_learning_rate=0.1,\n",
        "      decay_steps=100,\n",
        "      decay_rate=0.9)\n",
        "  adam = tf.keras.optimizers.Adam(\n",
        "      learning_rate=lr_schedule, clipnorm=1.0)\n",
        "  # adam = tf.keras.optimizers.Adam(\n",
        "  #     learning_rate=0.00000001)\n",
        "  model = Sequential()\n",
        "  model.add(Dense(12, input_dim=dim, activation='relu'))\n",
        "  model.add(Dense(10, activation='relu'))\n",
        "  model.add(Dense(10, activation='relu'))\n",
        "  model.add(Dense(1, activation='relu'))\n",
        "  model.compile(loss=loss, optimizer=adam)\n",
        "  # model.fit(x=x_train, y=y_train, epochs=50, verbose=0)\n",
        "  model.fit(x=x_train, y=y_train, epochs=50)\n",
        "  predicted = model.predict(x_test)\n",
        "  return predicted"
      ]
    },
    {
      "cell_type": "code",
      "execution_count": 89,
      "metadata": {
        "colab": {
          "base_uri": "https://localhost:8080/"
        },
        "id": "aIvpg0bQ4aJ6",
        "outputId": "a40152d8-afd7-44f7-8881-8415be451422"
      },
      "outputs": [
        {
          "name": "stdout",
          "output_type": "stream",
          "text": [
            "Epoch 1/50\n",
            " 976/1366 [====================>.........] - ETA: 0s - loss: nan"
          ]
        },
        {
          "ename": "KeyboardInterrupt",
          "evalue": "",
          "output_type": "error",
          "traceback": [
            "\u001b[1;31m---------------------------------------------------------------------------\u001b[0m",
            "\u001b[1;31mKeyboardInterrupt\u001b[0m                         Traceback (most recent call last)",
            "\u001b[1;32m~\\AppData\\Local\\Temp/ipykernel_24940/787841712.py\u001b[0m in \u001b[0;36m<module>\u001b[1;34m\u001b[0m\n\u001b[0;32m     12\u001b[0m \u001b[1;33m\u001b[0m\u001b[0m\n\u001b[0;32m     13\u001b[0m \u001b[1;32mfor\u001b[0m \u001b[0mloss\u001b[0m \u001b[1;32min\u001b[0m \u001b[0mlosses\u001b[0m\u001b[1;33m:\u001b[0m\u001b[1;33m\u001b[0m\u001b[1;33m\u001b[0m\u001b[0m\n\u001b[1;32m---> 14\u001b[1;33m   \u001b[0mpredictions\u001b[0m\u001b[1;33m.\u001b[0m\u001b[0mappend\u001b[0m\u001b[1;33m(\u001b[0m\u001b[0mtest_loss_function\u001b[0m\u001b[1;33m(\u001b[0m\u001b[0mloss\u001b[0m\u001b[1;33m)\u001b[0m\u001b[1;33m)\u001b[0m\u001b[1;33m\u001b[0m\u001b[1;33m\u001b[0m\u001b[0m\n\u001b[0m\u001b[0;32m     15\u001b[0m   \u001b[0mprint\u001b[0m\u001b[1;33m(\u001b[0m\u001b[0mtype\u001b[0m\u001b[1;33m(\u001b[0m\u001b[0mloss\u001b[0m\u001b[1;33m)\u001b[0m\u001b[1;33m,\u001b[0m \u001b[1;34m' finished'\u001b[0m\u001b[1;33m)\u001b[0m\u001b[1;33m\u001b[0m\u001b[1;33m\u001b[0m\u001b[0m\n\u001b[0;32m     16\u001b[0m \u001b[1;33m\u001b[0m\u001b[0m\n",
            "\u001b[1;32m~\\AppData\\Local\\Temp/ipykernel_24940/1600115578.py\u001b[0m in \u001b[0;36mtest_loss_function\u001b[1;34m(loss)\u001b[0m\n\u001b[0;32m     24\u001b[0m   \u001b[0mmodel\u001b[0m\u001b[1;33m.\u001b[0m\u001b[0mcompile\u001b[0m\u001b[1;33m(\u001b[0m\u001b[0mloss\u001b[0m\u001b[1;33m=\u001b[0m\u001b[0mloss\u001b[0m\u001b[1;33m,\u001b[0m \u001b[0moptimizer\u001b[0m\u001b[1;33m=\u001b[0m\u001b[0madam\u001b[0m\u001b[1;33m)\u001b[0m\u001b[1;33m\u001b[0m\u001b[1;33m\u001b[0m\u001b[0m\n\u001b[0;32m     25\u001b[0m   \u001b[1;31m# model.fit(x=x_train, y=y_train, epochs=50, verbose=0)\u001b[0m\u001b[1;33m\u001b[0m\u001b[1;33m\u001b[0m\u001b[0m\n\u001b[1;32m---> 26\u001b[1;33m   \u001b[0mmodel\u001b[0m\u001b[1;33m.\u001b[0m\u001b[0mfit\u001b[0m\u001b[1;33m(\u001b[0m\u001b[0mx\u001b[0m\u001b[1;33m=\u001b[0m\u001b[0mx_train\u001b[0m\u001b[1;33m,\u001b[0m \u001b[0my\u001b[0m\u001b[1;33m=\u001b[0m\u001b[0my_train\u001b[0m\u001b[1;33m,\u001b[0m \u001b[0mepochs\u001b[0m\u001b[1;33m=\u001b[0m\u001b[1;36m50\u001b[0m\u001b[1;33m)\u001b[0m\u001b[1;33m\u001b[0m\u001b[1;33m\u001b[0m\u001b[0m\n\u001b[0m\u001b[0;32m     27\u001b[0m   \u001b[0mpredicted\u001b[0m \u001b[1;33m=\u001b[0m \u001b[0mmodel\u001b[0m\u001b[1;33m.\u001b[0m\u001b[0mpredict\u001b[0m\u001b[1;33m(\u001b[0m\u001b[0mx_test\u001b[0m\u001b[1;33m)\u001b[0m\u001b[1;33m\u001b[0m\u001b[1;33m\u001b[0m\u001b[0m\n\u001b[0;32m     28\u001b[0m   \u001b[1;32mreturn\u001b[0m \u001b[0mpredicted\u001b[0m\u001b[1;33m\u001b[0m\u001b[1;33m\u001b[0m\u001b[0m\n",
            "\u001b[1;32m~\\AppData\\Local\\Programs\\Python\\Python39\\lib\\site-packages\\keras\\utils\\traceback_utils.py\u001b[0m in \u001b[0;36merror_handler\u001b[1;34m(*args, **kwargs)\u001b[0m\n\u001b[0;32m     62\u001b[0m     \u001b[0mfiltered_tb\u001b[0m \u001b[1;33m=\u001b[0m \u001b[1;32mNone\u001b[0m\u001b[1;33m\u001b[0m\u001b[1;33m\u001b[0m\u001b[0m\n\u001b[0;32m     63\u001b[0m     \u001b[1;32mtry\u001b[0m\u001b[1;33m:\u001b[0m\u001b[1;33m\u001b[0m\u001b[1;33m\u001b[0m\u001b[0m\n\u001b[1;32m---> 64\u001b[1;33m       \u001b[1;32mreturn\u001b[0m \u001b[0mfn\u001b[0m\u001b[1;33m(\u001b[0m\u001b[1;33m*\u001b[0m\u001b[0margs\u001b[0m\u001b[1;33m,\u001b[0m \u001b[1;33m**\u001b[0m\u001b[0mkwargs\u001b[0m\u001b[1;33m)\u001b[0m\u001b[1;33m\u001b[0m\u001b[1;33m\u001b[0m\u001b[0m\n\u001b[0m\u001b[0;32m     65\u001b[0m     \u001b[1;32mexcept\u001b[0m \u001b[0mException\u001b[0m \u001b[1;32mas\u001b[0m \u001b[0me\u001b[0m\u001b[1;33m:\u001b[0m  \u001b[1;31m# pylint: disable=broad-except\u001b[0m\u001b[1;33m\u001b[0m\u001b[1;33m\u001b[0m\u001b[0m\n\u001b[0;32m     66\u001b[0m       \u001b[0mfiltered_tb\u001b[0m \u001b[1;33m=\u001b[0m \u001b[0m_process_traceback_frames\u001b[0m\u001b[1;33m(\u001b[0m\u001b[0me\u001b[0m\u001b[1;33m.\u001b[0m\u001b[0m__traceback__\u001b[0m\u001b[1;33m)\u001b[0m\u001b[1;33m\u001b[0m\u001b[1;33m\u001b[0m\u001b[0m\n",
            "\u001b[1;32m~\\AppData\\Local\\Programs\\Python\\Python39\\lib\\site-packages\\keras\\engine\\training.py\u001b[0m in \u001b[0;36mfit\u001b[1;34m(self, x, y, batch_size, epochs, verbose, callbacks, validation_split, validation_data, shuffle, class_weight, sample_weight, initial_epoch, steps_per_epoch, validation_steps, validation_batch_size, validation_freq, max_queue_size, workers, use_multiprocessing)\u001b[0m\n\u001b[0;32m   1206\u001b[0m         \u001b[0mcallbacks\u001b[0m\u001b[1;33m.\u001b[0m\u001b[0mon_epoch_begin\u001b[0m\u001b[1;33m(\u001b[0m\u001b[0mepoch\u001b[0m\u001b[1;33m)\u001b[0m\u001b[1;33m\u001b[0m\u001b[1;33m\u001b[0m\u001b[0m\n\u001b[0;32m   1207\u001b[0m         \u001b[1;32mwith\u001b[0m \u001b[0mdata_handler\u001b[0m\u001b[1;33m.\u001b[0m\u001b[0mcatch_stop_iteration\u001b[0m\u001b[1;33m(\u001b[0m\u001b[1;33m)\u001b[0m\u001b[1;33m:\u001b[0m\u001b[1;33m\u001b[0m\u001b[1;33m\u001b[0m\u001b[0m\n\u001b[1;32m-> 1208\u001b[1;33m           \u001b[1;32mfor\u001b[0m \u001b[0mstep\u001b[0m \u001b[1;32min\u001b[0m \u001b[0mdata_handler\u001b[0m\u001b[1;33m.\u001b[0m\u001b[0msteps\u001b[0m\u001b[1;33m(\u001b[0m\u001b[1;33m)\u001b[0m\u001b[1;33m:\u001b[0m\u001b[1;33m\u001b[0m\u001b[1;33m\u001b[0m\u001b[0m\n\u001b[0m\u001b[0;32m   1209\u001b[0m             with tf.profiler.experimental.Trace(\n\u001b[0;32m   1210\u001b[0m                 \u001b[1;34m'train'\u001b[0m\u001b[1;33m,\u001b[0m\u001b[1;33m\u001b[0m\u001b[1;33m\u001b[0m\u001b[0m\n",
            "\u001b[1;32m~\\AppData\\Local\\Programs\\Python\\Python39\\lib\\site-packages\\keras\\engine\\data_adapter.py\u001b[0m in \u001b[0;36msteps\u001b[1;34m(self)\u001b[0m\n\u001b[0;32m   1248\u001b[0m       \u001b[1;32mif\u001b[0m \u001b[0mself\u001b[0m\u001b[1;33m.\u001b[0m\u001b[0m_insufficient_data\u001b[0m\u001b[1;33m:\u001b[0m  \u001b[1;31m# Set by `catch_stop_iteration`.\u001b[0m\u001b[1;33m\u001b[0m\u001b[1;33m\u001b[0m\u001b[0m\n\u001b[0;32m   1249\u001b[0m         \u001b[1;32mbreak\u001b[0m\u001b[1;33m\u001b[0m\u001b[1;33m\u001b[0m\u001b[0m\n\u001b[1;32m-> 1250\u001b[1;33m       \u001b[0moriginal_spe\u001b[0m \u001b[1;33m=\u001b[0m \u001b[0mself\u001b[0m\u001b[1;33m.\u001b[0m\u001b[0m_steps_per_execution\u001b[0m\u001b[1;33m.\u001b[0m\u001b[0mnumpy\u001b[0m\u001b[1;33m(\u001b[0m\u001b[1;33m)\u001b[0m\u001b[1;33m.\u001b[0m\u001b[0mitem\u001b[0m\u001b[1;33m(\u001b[0m\u001b[1;33m)\u001b[0m\u001b[1;33m\u001b[0m\u001b[1;33m\u001b[0m\u001b[0m\n\u001b[0m\u001b[0;32m   1251\u001b[0m       can_run_full_execution = (\n\u001b[0;32m   1252\u001b[0m           \u001b[0moriginal_spe\u001b[0m \u001b[1;33m==\u001b[0m \u001b[1;36m1\u001b[0m \u001b[1;32mor\u001b[0m\u001b[1;33m\u001b[0m\u001b[1;33m\u001b[0m\u001b[0m\n",
            "\u001b[1;32m~\\AppData\\Local\\Programs\\Python\\Python39\\lib\\site-packages\\tensorflow\\python\\ops\\resource_variable_ops.py\u001b[0m in \u001b[0;36mnumpy\u001b[1;34m(self)\u001b[0m\n\u001b[0;32m    643\u001b[0m   \u001b[1;32mdef\u001b[0m \u001b[0mnumpy\u001b[0m\u001b[1;33m(\u001b[0m\u001b[0mself\u001b[0m\u001b[1;33m)\u001b[0m\u001b[1;33m:\u001b[0m\u001b[1;33m\u001b[0m\u001b[1;33m\u001b[0m\u001b[0m\n\u001b[0;32m    644\u001b[0m     \u001b[1;32mif\u001b[0m \u001b[0mcontext\u001b[0m\u001b[1;33m.\u001b[0m\u001b[0mexecuting_eagerly\u001b[0m\u001b[1;33m(\u001b[0m\u001b[1;33m)\u001b[0m\u001b[1;33m:\u001b[0m\u001b[1;33m\u001b[0m\u001b[1;33m\u001b[0m\u001b[0m\n\u001b[1;32m--> 645\u001b[1;33m       \u001b[1;32mreturn\u001b[0m \u001b[0mself\u001b[0m\u001b[1;33m.\u001b[0m\u001b[0mread_value\u001b[0m\u001b[1;33m(\u001b[0m\u001b[1;33m)\u001b[0m\u001b[1;33m.\u001b[0m\u001b[0mnumpy\u001b[0m\u001b[1;33m(\u001b[0m\u001b[1;33m)\u001b[0m\u001b[1;33m\u001b[0m\u001b[1;33m\u001b[0m\u001b[0m\n\u001b[0m\u001b[0;32m    646\u001b[0m     raise NotImplementedError(\n\u001b[0;32m    647\u001b[0m         \"numpy() is only available when eager execution is enabled.\")\n",
            "\u001b[1;32m~\\AppData\\Local\\Programs\\Python\\Python39\\lib\\site-packages\\tensorflow\\python\\ops\\resource_variable_ops.py\u001b[0m in \u001b[0;36mread_value\u001b[1;34m(self)\u001b[0m\n\u001b[0;32m    721\u001b[0m     \u001b[1;31m# Return an identity so it can get placed on whatever device the context\u001b[0m\u001b[1;33m\u001b[0m\u001b[1;33m\u001b[0m\u001b[0m\n\u001b[0;32m    722\u001b[0m     \u001b[1;31m# specifies instead of the device where the variable is.\u001b[0m\u001b[1;33m\u001b[0m\u001b[1;33m\u001b[0m\u001b[0m\n\u001b[1;32m--> 723\u001b[1;33m     \u001b[1;32mreturn\u001b[0m \u001b[0marray_ops\u001b[0m\u001b[1;33m.\u001b[0m\u001b[0midentity\u001b[0m\u001b[1;33m(\u001b[0m\u001b[0mvalue\u001b[0m\u001b[1;33m)\u001b[0m\u001b[1;33m\u001b[0m\u001b[1;33m\u001b[0m\u001b[0m\n\u001b[0m\u001b[0;32m    724\u001b[0m \u001b[1;33m\u001b[0m\u001b[0m\n\u001b[0;32m    725\u001b[0m   \u001b[1;32mdef\u001b[0m \u001b[0msparse_read\u001b[0m\u001b[1;33m(\u001b[0m\u001b[0mself\u001b[0m\u001b[1;33m,\u001b[0m \u001b[0mindices\u001b[0m\u001b[1;33m,\u001b[0m \u001b[0mname\u001b[0m\u001b[1;33m=\u001b[0m\u001b[1;32mNone\u001b[0m\u001b[1;33m)\u001b[0m\u001b[1;33m:\u001b[0m\u001b[1;33m\u001b[0m\u001b[1;33m\u001b[0m\u001b[0m\n",
            "\u001b[1;32m~\\AppData\\Local\\Programs\\Python\\Python39\\lib\\site-packages\\tensorflow\\python\\util\\traceback_utils.py\u001b[0m in \u001b[0;36merror_handler\u001b[1;34m(*args, **kwargs)\u001b[0m\n\u001b[0;32m    148\u001b[0m     \u001b[0mfiltered_tb\u001b[0m \u001b[1;33m=\u001b[0m \u001b[1;32mNone\u001b[0m\u001b[1;33m\u001b[0m\u001b[1;33m\u001b[0m\u001b[0m\n\u001b[0;32m    149\u001b[0m     \u001b[1;32mtry\u001b[0m\u001b[1;33m:\u001b[0m\u001b[1;33m\u001b[0m\u001b[1;33m\u001b[0m\u001b[0m\n\u001b[1;32m--> 150\u001b[1;33m       \u001b[1;32mreturn\u001b[0m \u001b[0mfn\u001b[0m\u001b[1;33m(\u001b[0m\u001b[1;33m*\u001b[0m\u001b[0margs\u001b[0m\u001b[1;33m,\u001b[0m \u001b[1;33m**\u001b[0m\u001b[0mkwargs\u001b[0m\u001b[1;33m)\u001b[0m\u001b[1;33m\u001b[0m\u001b[1;33m\u001b[0m\u001b[0m\n\u001b[0m\u001b[0;32m    151\u001b[0m     \u001b[1;32mexcept\u001b[0m \u001b[0mException\u001b[0m \u001b[1;32mas\u001b[0m \u001b[0me\u001b[0m\u001b[1;33m:\u001b[0m\u001b[1;33m\u001b[0m\u001b[1;33m\u001b[0m\u001b[0m\n\u001b[0;32m    152\u001b[0m       \u001b[0mfiltered_tb\u001b[0m \u001b[1;33m=\u001b[0m \u001b[0m_process_traceback_frames\u001b[0m\u001b[1;33m(\u001b[0m\u001b[0me\u001b[0m\u001b[1;33m.\u001b[0m\u001b[0m__traceback__\u001b[0m\u001b[1;33m)\u001b[0m\u001b[1;33m\u001b[0m\u001b[1;33m\u001b[0m\u001b[0m\n",
            "\u001b[1;32m~\\AppData\\Local\\Programs\\Python\\Python39\\lib\\site-packages\\tensorflow\\python\\util\\dispatch.py\u001b[0m in \u001b[0;36mop_dispatch_handler\u001b[1;34m(*args, **kwargs)\u001b[0m\n\u001b[0;32m   1094\u001b[0m       \u001b[1;31m# Fallback dispatch system (dispatch v1):\u001b[0m\u001b[1;33m\u001b[0m\u001b[1;33m\u001b[0m\u001b[0m\n\u001b[0;32m   1095\u001b[0m       \u001b[1;32mtry\u001b[0m\u001b[1;33m:\u001b[0m\u001b[1;33m\u001b[0m\u001b[1;33m\u001b[0m\u001b[0m\n\u001b[1;32m-> 1096\u001b[1;33m         \u001b[1;32mreturn\u001b[0m \u001b[0mdispatch_target\u001b[0m\u001b[1;33m(\u001b[0m\u001b[1;33m*\u001b[0m\u001b[0margs\u001b[0m\u001b[1;33m,\u001b[0m \u001b[1;33m**\u001b[0m\u001b[0mkwargs\u001b[0m\u001b[1;33m)\u001b[0m\u001b[1;33m\u001b[0m\u001b[1;33m\u001b[0m\u001b[0m\n\u001b[0m\u001b[0;32m   1097\u001b[0m       \u001b[1;32mexcept\u001b[0m \u001b[1;33m(\u001b[0m\u001b[0mTypeError\u001b[0m\u001b[1;33m,\u001b[0m \u001b[0mValueError\u001b[0m\u001b[1;33m)\u001b[0m\u001b[1;33m:\u001b[0m\u001b[1;33m\u001b[0m\u001b[1;33m\u001b[0m\u001b[0m\n\u001b[0;32m   1098\u001b[0m         \u001b[1;31m# Note: convert_to_eager_tensor currently raises a ValueError, not a\u001b[0m\u001b[1;33m\u001b[0m\u001b[1;33m\u001b[0m\u001b[0m\n",
            "\u001b[1;32m~\\AppData\\Local\\Programs\\Python\\Python39\\lib\\site-packages\\tensorflow\\python\\ops\\array_ops.py\u001b[0m in \u001b[0;36midentity\u001b[1;34m(input, name)\u001b[0m\n\u001b[0;32m    288\u001b[0m     \u001b[1;31m# variables. Variables have correct handle data when graph building.\u001b[0m\u001b[1;33m\u001b[0m\u001b[1;33m\u001b[0m\u001b[0m\n\u001b[0;32m    289\u001b[0m     \u001b[0minput\u001b[0m \u001b[1;33m=\u001b[0m \u001b[0mops\u001b[0m\u001b[1;33m.\u001b[0m\u001b[0mconvert_to_tensor\u001b[0m\u001b[1;33m(\u001b[0m\u001b[0minput\u001b[0m\u001b[1;33m)\u001b[0m\u001b[1;33m\u001b[0m\u001b[1;33m\u001b[0m\u001b[0m\n\u001b[1;32m--> 290\u001b[1;33m   \u001b[0mret\u001b[0m \u001b[1;33m=\u001b[0m \u001b[0mgen_array_ops\u001b[0m\u001b[1;33m.\u001b[0m\u001b[0midentity\u001b[0m\u001b[1;33m(\u001b[0m\u001b[0minput\u001b[0m\u001b[1;33m,\u001b[0m \u001b[0mname\u001b[0m\u001b[1;33m=\u001b[0m\u001b[0mname\u001b[0m\u001b[1;33m)\u001b[0m\u001b[1;33m\u001b[0m\u001b[1;33m\u001b[0m\u001b[0m\n\u001b[0m\u001b[0;32m    291\u001b[0m   \u001b[1;31m# Propagate handle data for happier shape inference for resource variables.\u001b[0m\u001b[1;33m\u001b[0m\u001b[1;33m\u001b[0m\u001b[0m\n\u001b[0;32m    292\u001b[0m   \u001b[1;32mif\u001b[0m \u001b[0mhasattr\u001b[0m\u001b[1;33m(\u001b[0m\u001b[0minput\u001b[0m\u001b[1;33m,\u001b[0m \u001b[1;34m\"_handle_data\"\u001b[0m\u001b[1;33m)\u001b[0m\u001b[1;33m:\u001b[0m\u001b[1;33m\u001b[0m\u001b[1;33m\u001b[0m\u001b[0m\n",
            "\u001b[1;32m~\\AppData\\Local\\Programs\\Python\\Python39\\lib\\site-packages\\tensorflow\\python\\ops\\gen_array_ops.py\u001b[0m in \u001b[0;36midentity\u001b[1;34m(input, name)\u001b[0m\n\u001b[0;32m   4061\u001b[0m   \u001b[1;32mif\u001b[0m \u001b[0mtld\u001b[0m\u001b[1;33m.\u001b[0m\u001b[0mis_eager\u001b[0m\u001b[1;33m:\u001b[0m\u001b[1;33m\u001b[0m\u001b[1;33m\u001b[0m\u001b[0m\n\u001b[0;32m   4062\u001b[0m     \u001b[1;32mtry\u001b[0m\u001b[1;33m:\u001b[0m\u001b[1;33m\u001b[0m\u001b[1;33m\u001b[0m\u001b[0m\n\u001b[1;32m-> 4063\u001b[1;33m       _result = pywrap_tfe.TFE_Py_FastPathExecute(\n\u001b[0m\u001b[0;32m   4064\u001b[0m         _ctx, \"Identity\", name, input)\n\u001b[0;32m   4065\u001b[0m       \u001b[1;32mreturn\u001b[0m \u001b[0m_result\u001b[0m\u001b[1;33m\u001b[0m\u001b[1;33m\u001b[0m\u001b[0m\n",
            "\u001b[1;31mKeyboardInterrupt\u001b[0m: "
          ]
        }
      ],
      "source": [
        "losses = [\n",
        "          tf.keras.losses.MeanSquaredError(),\n",
        "          # tf.keras.losses.MeanAbsoluteError(),\n",
        "          # tf.keras.losses.MeanAbsolutePercentageError(),\n",
        "          # tf.keras.losses.MeanSquaredLogarithmicError(),\n",
        "          # tf.keras.losses.CosineSimilarity(),\n",
        "          # tf.keras.losses.Huber(),\n",
        "          # tf.keras.losses.LogCosh(),\n",
        "          ]\n",
        "\n",
        "predictions = []\n",
        "\n",
        "for loss in losses:\n",
        "  predictions.append(test_loss_function(loss))\n",
        "  print(type(loss), ' finished')\n",
        "\n",
        "for i in range(len(predictions)):\n",
        "  correct_predictions = correctly_predicted(predictions[i].flatten(),  y_test.iloc[:,0].tolist())\n",
        "  print(type(losses[i]), '    ', correct_predictions, correct_predictions / len(predictions[i]))"
      ]
    },
    {
      "cell_type": "code",
      "execution_count": 14,
      "metadata": {},
      "outputs": [
        {
          "name": "stdout",
          "output_type": "stream",
          "text": [
            "[nan nan nan nan nan nan nan nan nan nan]\n",
            "[292.65289583333333, 276.32403512175, 275.928330440625, 291.76916666666665, 283.501875, 262.7949791666667, 277.9825, 291.4166666666667, 286.0666458333333, 275.07314583333334]\n",
            "[257.46811552954165, 289.37330251225, 274.265375, 285.01510625, 302.8397083333333, 279.3551595883333, 276.03239583333334, 300.430127388, 286.5595059152083, 282.9092660032917]\n"
          ]
        }
      ],
      "source": [
        "print(predictions[i].flatten()[:10])\n",
        "print(y_train.iloc[:,0].tolist()[:10])\n",
        "print(y_test.iloc[:,0].tolist()[:10])"
      ]
    },
    {
      "cell_type": "code",
      "execution_count": null,
      "metadata": {
        "id": "lHnRJ9UzZtZt"
      },
      "outputs": [],
      "source": [
        "def custom_loss(y_true, y_pred):\n",
        "  counter = 0\n",
        "  for i in range(len(y_pred)):\n",
        "    if abs(y_pred[i] -  y_true[i]) > 2:\n",
        "      counter+=1\n",
        "  return counter/len(y_pred)"
      ]
    },
    {
      "cell_type": "code",
      "execution_count": null,
      "metadata": {
        "id": "iqV2oC-glTRa"
      },
      "outputs": [],
      "source": [
        "df_class_shuffle = dfs_class.sample(frac = 1)\n",
        "\n",
        "train_class_length = math.floor(df_class_shuffle.shape[0] * 0.8)\n",
        "\n",
        "Xs = df_class_shuffle.iloc[: , :-1]\n",
        "X_norm = Xs\n",
        "X_norm = (Xs-Xs.mean())/Xs.std()\n",
        "\n",
        "x_test = X_norm.iloc[train_length: , 2:]\n",
        "y_test = df_class_shuffle.iloc[train_length: , -1:]\n",
        "x_train = X_norm.iloc[:train_length , 2:]\n",
        "y_train = df_class_shuffle.iloc[:train_length , -1:]\n",
        "\n",
        "#zamiana y na {0,1}\n",
        "y_train.loc[y_train['WindSpeed5'] < 6.0, 'WindSpeed5'] = 0\n",
        "y_train.loc[y_train['WindSpeed5'] >= 6.0, 'WindSpeed5'] = 1\n",
        "y_test.loc[y_test['WindSpeed5'] < 6.0, 'WindSpeed5'] = 0\n",
        "y_test.loc[y_test['WindSpeed5'] >= 6.0, 'WindSpeed5'] = 1"
      ]
    },
    {
      "cell_type": "code",
      "execution_count": null,
      "metadata": {
        "id": "8FOXv3ShwUrX"
      },
      "outputs": [],
      "source": [
        "print(y_train.head(20))"
      ]
    },
    {
      "cell_type": "code",
      "execution_count": null,
      "metadata": {
        "id": "WVr3AYJKrMkE"
      },
      "outputs": [],
      "source": [
        "dim = x_test.shape[1]\n",
        "model = Sequential()\n",
        "model.add(Dense(12, input_dim=dim, activation='sigmoid'))\n",
        "model.add(Dense(10, activation='sigmoid'))\n",
        "model.add(Dense(10, activation='sigmoid'))\n",
        "model.add(Dense(1, activation='sigmoid'))\n",
        "model.compile(optimizer='adam', loss='binary_crossentropy',\n",
        "              metrics=['accuracy'])"
      ]
    },
    {
      "cell_type": "code",
      "execution_count": null,
      "metadata": {
        "id": "1Wg25otE0ycp"
      },
      "outputs": [],
      "source": [
        "model.fit(x=x_train, y=y_train, epochs=50)"
      ]
    }
  ],
  "metadata": {
    "colab": {
      "collapsed_sections": [],
      "name": "sienci3_Copy.ipynb",
      "provenance": []
    },
    "kernelspec": {
      "display_name": "Python 3",
      "name": "python3"
    },
    "language_info": {
      "codemirror_mode": {
        "name": "ipython",
        "version": 3
      },
      "file_extension": ".py",
      "mimetype": "text/x-python",
      "name": "python",
      "nbconvert_exporter": "python",
      "pygments_lexer": "ipython3",
      "version": "3.9.7"
    }
  },
  "nbformat": 4,
  "nbformat_minor": 0
}
