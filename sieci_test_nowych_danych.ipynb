{
  "cells": [
    {
      "cell_type": "code",
      "execution_count": 82,
      "metadata": {
        "id": "_n6_idxzPsMv"
      },
      "outputs": [],
      "source": [
        "import pandas as pd\n",
        "from datetime import datetime\n",
        "from keras.models import Sequential\n",
        "from keras.layers import Dense\n",
        "import tensorflow as tf\n",
        "import math\n",
        "import statistics\n",
        "import keras\n",
        "from tensorflow.python.ops import math_ops\n",
        "import numpy as np\n"
      ]
    },
    {
      "cell_type": "code",
      "execution_count": 123,
      "metadata": {
        "id": "LXeLXl2QjuXr"
      },
      "outputs": [],
      "source": [
        "dfs = pd.read_csv('./dfs_all_with_sincos_8h_pojutrze.csv')\n",
        "dfs = dfs.iloc[: , 1:]"
      ]
    },
    {
      "cell_type": "code",
      "execution_count": 124,
      "metadata": {
        "id": "1C_pBC67SpHH"
      },
      "outputs": [],
      "source": [
        "df_shuffle = dfs.sample(frac = 1)\n",
        "\n",
        "train_length = math.floor(df_shuffle.shape[0] * 0.8)\n",
        "\n",
        "Xs = df_shuffle.iloc[: , :-1]\n",
        "X_norm = Xs\n",
        "X_norm = (Xs-Xs.mean())/Xs.std()\n",
        "X_norm = X_norm.replace(np.nan, 0)\n",
        "\n",
        "\n",
        "x_test = X_norm.iloc[train_length: , :]\n",
        "y_test = df_shuffle.iloc[train_length: , -1:]\n",
        "x_train = X_norm.iloc[:train_length , :]\n",
        "y_train = df_shuffle.iloc[:train_length , -1:]"
      ]
    },
    {
      "cell_type": "markdown",
      "metadata": {
        "id": "Mr9uFOz8Yk4l"
      },
      "source": [
        "Regresja MSE temperatura 5000 danych"
      ]
    },
    {
      "cell_type": "code",
      "execution_count": 126,
      "metadata": {
        "id": "WqViV9aXddFj"
      },
      "outputs": [],
      "source": [
        "def correctly_predicted(predicted, y_test):\n",
        "  counter = 0\n",
        "  for i in range(len(predicted)):\n",
        "    if abs(predicted[i] -  y_test[i]) <= 2:\n",
        "      counter+=1\n",
        "\n",
        "  return counter\n",
        "\n",
        "def test_loss_function(loss):\n",
        "  dim = x_test.shape[1]\n",
        "  lr_schedule = tf.keras.optimizers.schedules.ExponentialDecay(\n",
        "      initial_learning_rate=0.1,\n",
        "      decay_steps=100,\n",
        "      decay_rate=0.9)\n",
        "  adam = tf.keras.optimizers.Adam(\n",
        "      learning_rate=lr_schedule)\n",
        "  # adam = tf.keras.optimizers.Adam(\n",
        "  #     learning_rate=0.00000001)\n",
        "  model = Sequential()\n",
        "  model.add(Dense(12, input_dim=dim, activation='relu'))\n",
        "  model.add(Dense(10, activation='relu'))\n",
        "  model.add(Dense(10, activation='relu'))\n",
        "  model.add(Dense(1, activation='relu'))\n",
        "  model.compile(loss=loss, optimizer=adam)\n",
        "  model.fit(x=x_train, y=y_train, epochs=50, verbose=0)\n",
        "  # model.fit(x=x_train, y=y_train, epochs=50)\n",
        "  predicted = model.predict(x_test)\n",
        "  return predicted"
      ]
    },
    {
      "cell_type": "code",
      "execution_count": 127,
      "metadata": {
        "colab": {
          "base_uri": "https://localhost:8080/"
        },
        "id": "aIvpg0bQ4aJ6",
        "outputId": "a40152d8-afd7-44f7-8881-8415be451422"
      },
      "outputs": [
        {
          "name": "stdout",
          "output_type": "stream",
          "text": [
            "<class 'keras.losses.MeanSquaredError'>  finished\n",
            "<class 'keras.losses.MeanAbsoluteError'>  finished\n",
            "<class 'keras.losses.MeanAbsolutePercentageError'>  finished\n",
            "<class 'keras.losses.MeanSquaredLogarithmicError'>  finished\n",
            "<class 'keras.losses.CosineSimilarity'>  finished\n",
            "<class 'keras.losses.Huber'>  finished\n",
            "<class 'keras.losses.LogCosh'>  finished\n",
            "<class 'keras.losses.MeanSquaredError'>      5063 0.46351734871372335\n",
            "<class 'keras.losses.MeanAbsoluteError'>      5360 0.49070768104000734\n",
            "<class 'keras.losses.MeanAbsolutePercentageError'>      5445 0.4984894259818731\n",
            "<class 'keras.losses.MeanSquaredLogarithmicError'>      2575 0.2357410967682871\n",
            "<class 'keras.losses.CosineSimilarity'>      0 0.0\n",
            "<class 'keras.losses.Huber'>      5455 0.4994049253867985\n",
            "<class 'keras.losses.LogCosh'>      5207 0.4767005401446489\n"
          ]
        }
      ],
      "source": [
        "losses = [\n",
        "          tf.keras.losses.MeanSquaredError(),\n",
        "          tf.keras.losses.MeanAbsoluteError(),\n",
        "          tf.keras.losses.MeanAbsolutePercentageError(),\n",
        "          tf.keras.losses.MeanSquaredLogarithmicError(),\n",
        "          tf.keras.losses.CosineSimilarity(),\n",
        "          tf.keras.losses.Huber(),\n",
        "          tf.keras.losses.LogCosh(),\n",
        "          ]\n",
        "\n",
        "predictions = []\n",
        "\n",
        "for loss in losses:\n",
        "  predictions.append(test_loss_function(loss))\n",
        "  print(type(loss), ' finished')\n",
        "\n",
        "for i in range(len(predictions)):\n",
        "  correct_predictions = correctly_predicted(predictions[i].flatten(),  y_test.iloc[:,0].tolist())\n",
        "  print(type(losses[i]), '    ', correct_predictions, correct_predictions / len(predictions[i]))"
      ]
    },
    {
      "cell_type": "code",
      "execution_count": null,
      "metadata": {
        "id": "lHnRJ9UzZtZt"
      },
      "outputs": [],
      "source": [
        "def custom_loss(y_true, y_pred):\n",
        "  counter = 0\n",
        "  for i in range(len(y_pred)):\n",
        "    if abs(y_pred[i] -  y_true[i]) > 2:\n",
        "      counter+=1\n",
        "  return counter/len(y_pred)"
      ]
    },
    {
      "cell_type": "code",
      "execution_count": null,
      "metadata": {
        "id": "iqV2oC-glTRa"
      },
      "outputs": [],
      "source": [
        "df_class_shuffle = dfs_class.sample(frac = 1)\n",
        "\n",
        "train_class_length = math.floor(df_class_shuffle.shape[0] * 0.8)\n",
        "\n",
        "Xs = df_class_shuffle.iloc[: , :-1]\n",
        "X_norm = Xs\n",
        "X_norm = (Xs-Xs.mean())/Xs.std()\n",
        "\n",
        "x_test = X_norm.iloc[train_length: , 2:]\n",
        "y_test = df_class_shuffle.iloc[train_length: , -1:]\n",
        "x_train = X_norm.iloc[:train_length , 2:]\n",
        "y_train = df_class_shuffle.iloc[:train_length , -1:]\n",
        "\n",
        "#zamiana y na {0,1}\n",
        "y_train.loc[y_train['WindSpeed5'] < 6.0, 'WindSpeed5'] = 0\n",
        "y_train.loc[y_train['WindSpeed5'] >= 6.0, 'WindSpeed5'] = 1\n",
        "y_test.loc[y_test['WindSpeed5'] < 6.0, 'WindSpeed5'] = 0\n",
        "y_test.loc[y_test['WindSpeed5'] >= 6.0, 'WindSpeed5'] = 1"
      ]
    },
    {
      "cell_type": "code",
      "execution_count": null,
      "metadata": {
        "id": "8FOXv3ShwUrX"
      },
      "outputs": [],
      "source": [
        "print(y_train.head(20))"
      ]
    },
    {
      "cell_type": "code",
      "execution_count": null,
      "metadata": {
        "id": "WVr3AYJKrMkE"
      },
      "outputs": [],
      "source": [
        "dim = x_test.shape[1]\n",
        "model = Sequential()\n",
        "model.add(Dense(12, input_dim=dim, activation='sigmoid'))\n",
        "model.add(Dense(10, activation='sigmoid'))\n",
        "model.add(Dense(10, activation='sigmoid'))\n",
        "model.add(Dense(1, activation='sigmoid'))\n",
        "model.compile(optimizer='adam', loss='binary_crossentropy',\n",
        "              metrics=['accuracy'])"
      ]
    },
    {
      "cell_type": "code",
      "execution_count": null,
      "metadata": {
        "id": "1Wg25otE0ycp"
      },
      "outputs": [],
      "source": [
        "model.fit(x=x_train, y=y_train, epochs=50)"
      ]
    }
  ],
  "metadata": {
    "colab": {
      "collapsed_sections": [],
      "name": "sienci3_Copy.ipynb",
      "provenance": []
    },
    "kernelspec": {
      "display_name": "Python 3",
      "name": "python3"
    },
    "language_info": {
      "codemirror_mode": {
        "name": "ipython",
        "version": 3
      },
      "file_extension": ".py",
      "mimetype": "text/x-python",
      "name": "python",
      "nbconvert_exporter": "python",
      "pygments_lexer": "ipython3",
      "version": "3.9.7"
    }
  },
  "nbformat": 4,
  "nbformat_minor": 0
}
